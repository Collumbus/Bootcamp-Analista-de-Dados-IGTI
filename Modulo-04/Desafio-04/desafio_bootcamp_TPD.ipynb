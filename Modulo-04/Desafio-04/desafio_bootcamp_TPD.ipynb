{
 "cells": [
  {
   "cell_type": "code",
   "execution_count": 8,
   "metadata": {},
   "outputs": [],
   "source": [
    "# Setando JAVA 8 para poder rodar o Spark no Windows\n",
    "from os import environ\n",
    "environ['JAVA_HOME'] = \"C:\\Program Files\\Java\\jdk1.8.0_201\""
   ]
  },
  {
   "cell_type": "code",
   "execution_count": 9,
   "metadata": {},
   "outputs": [],
   "source": [
    "#código para o desafio do bootcamp de TPD - Adaptado para rodar no Jupyter local SO Windows 10"
   ]
  },
  {
   "cell_type": "markdown",
   "metadata": {},
   "source": [
    "1) Primeiro passo - Seção Spark"
   ]
  },
  {
   "cell_type": "code",
   "execution_count": 70,
   "metadata": {},
   "outputs": [],
   "source": [
    "from pyspark.sql import SparkSession #importa a biblioteca que cria a seção do spark\n",
    "import pandas as pd"
   ]
  },
  {
   "cell_type": "code",
   "execution_count": 11,
   "metadata": {},
   "outputs": [],
   "source": [
    "#inicia a seção para a utilização do spark\n",
    "spark = SparkSession.builder.appName(\"desafio_tpd\").getOrCreate() #cria a seção caso não exista ou obtém a já criada"
   ]
  },
  {
   "cell_type": "code",
   "execution_count": 12,
   "metadata": {},
   "outputs": [
    {
     "name": "stdout",
     "output_type": "stream",
     "text": [
      " O volume na unidade D ‚ DATABASE\n",
      " O N£mero de S‚rie do Volume ‚ 34B0-EC20\n",
      "\n",
      " Pasta de D:\\DataScience\\Bootcamp-Analista-de-Dados-IGTI\\Modulo-04\\Desafio-04\\data\n",
      "\n",
      "10/07/2020  10:58    <DIR>          .\n",
      "10/07/2020  10:58    <DIR>          ..\n",
      "10/07/2020  10:46             4.286 Mall_Customers.csv\n",
      "               1 arquivo(s)          4.286 bytes\n",
      "               2 pasta(s)   1.031.095.525.376 bytes dispon¡veis\n"
     ]
    }
   ],
   "source": [
    "%ls data"
   ]
  },
  {
   "cell_type": "code",
   "execution_count": 13,
   "metadata": {},
   "outputs": [],
   "source": [
    "#%fs ls /FileStore/tables    # comand utilizado no databricks"
   ]
  },
  {
   "cell_type": "code",
   "execution_count": 14,
   "metadata": {},
   "outputs": [],
   "source": [
    "diretorioDatasetDiabets=\"data/Mall_Customers.csv\"  #diretório que contém o arquivo a ser utilizado"
   ]
  },
  {
   "cell_type": "code",
   "execution_count": 15,
   "metadata": {},
   "outputs": [],
   "source": [
    "data = spark.read.format(\"csv\").options(header=\"true\", inferschema=\"true\").load(diretorioDatasetDiabets)  #realiza a leitura do dataset"
   ]
  },
  {
   "cell_type": "code",
   "execution_count": 16,
   "metadata": {},
   "outputs": [
    {
     "name": "stdout",
     "output_type": "stream",
     "text": [
      "+----------+------+---+------------------+----------------------+\n",
      "|CustomerID|Genre |Age|Annual Income (k$)|Spending Score (1-100)|\n",
      "+----------+------+---+------------------+----------------------+\n",
      "|1         |Male  |19 |15                |39                    |\n",
      "|2         |Male  |21 |15                |81                    |\n",
      "|3         |Female|20 |16                |6                     |\n",
      "|4         |Female|23 |16                |77                    |\n",
      "|5         |Female|31 |17                |40                    |\n",
      "+----------+------+---+------------------+----------------------+\n",
      "only showing top 5 rows\n",
      "\n"
     ]
    }
   ],
   "source": [
    "data.show(5,False)  #mostrando as 5 primeiras instâncias do dataset"
   ]
  },
  {
   "cell_type": "code",
   "execution_count": 17,
   "metadata": {},
   "outputs": [
    {
     "data": {
      "text/plain": [
       "['CustomerID', 'Genre', 'Age', 'Annual Income (k$)', 'Spending Score (1-100)']"
      ]
     },
     "execution_count": 17,
     "metadata": {},
     "output_type": "execute_result"
    }
   ],
   "source": [
    "data.columns #mostra as colunas do dataset"
   ]
  },
  {
   "cell_type": "code",
   "execution_count": 18,
   "metadata": {},
   "outputs": [
    {
     "name": "stdout",
     "output_type": "stream",
     "text": [
      "root\n",
      " |-- CustomerID: integer (nullable = true)\n",
      " |-- Genre: string (nullable = true)\n",
      " |-- Age: integer (nullable = true)\n",
      " |-- Annual Income (k$): integer (nullable = true)\n",
      " |-- Spending Score (1-100): integer (nullable = true)\n",
      "\n"
     ]
    }
   ],
   "source": [
    "data.printSchema()  #mostra o esquema inferido pelas variáveis"
   ]
  },
  {
   "cell_type": "code",
   "execution_count": 19,
   "metadata": {},
   "outputs": [
    {
     "data": {
      "text/plain": [
       "200"
      ]
     },
     "execution_count": 19,
     "metadata": {},
     "output_type": "execute_result"
    }
   ],
   "source": [
    "data.count()  #conta a quantidade de registros"
   ]
  },
  {
   "cell_type": "code",
   "execution_count": 20,
   "metadata": {},
   "outputs": [
    {
     "name": "stdout",
     "output_type": "stream",
     "text": [
      "+----------+-----+---+------------------+----------------------+\n",
      "|CustomerID|Genre|Age|Annual Income (k$)|Spending Score (1-100)|\n",
      "+----------+-----+---+------------------+----------------------+\n",
      "|         0|    0|  0|                 0|                     0|\n",
      "+----------+-----+---+------------------+----------------------+\n",
      "\n"
     ]
    }
   ],
   "source": [
    "#verificando a existência ou não de valores nulos\n",
    "from pyspark.sql.functions import isnan, when, count, col\n",
    "\n",
    "data.select([count(when(isnan(c), c)).alias(c) for c in data.columns]).show()"
   ]
  },
  {
   "cell_type": "code",
   "execution_count": 21,
   "metadata": {},
   "outputs": [
    {
     "name": "stdout",
     "output_type": "stream",
     "text": [
      "+-------+------------------+------+-----------------+------------------+----------------------+\n",
      "|summary|        CustomerID| Genre|              Age|Annual Income (k$)|Spending Score (1-100)|\n",
      "+-------+------------------+------+-----------------+------------------+----------------------+\n",
      "|  count|               200|   200|              200|               200|                   200|\n",
      "|   mean|             100.5|  null|            38.85|             60.56|                  50.2|\n",
      "| stddev|57.879184513951124|  null|13.96900733155888| 26.26472116527124|    25.823521668370173|\n",
      "|    min|                 1|Female|               18|                15|                     1|\n",
      "|    max|               200|  Male|               70|               137|                    99|\n",
      "+-------+------------------+------+-----------------+------------------+----------------------+\n",
      "\n"
     ]
    }
   ],
   "source": [
    "data.describe().show() #mostrando as estatísticas do dataset"
   ]
  },
  {
   "cell_type": "markdown",
   "metadata": {},
   "source": [
    "Verificando se existem outliers (anomalias) nos dados. Para isso, será utilizado o boxplot."
   ]
  },
  {
   "cell_type": "code",
   "execution_count": 22,
   "metadata": {},
   "outputs": [
    {
     "name": "stdout",
     "output_type": "stream",
     "text": [
      "+---+------------------+----------------------+\n",
      "|Age|Annual Income (k$)|Spending Score (1-100)|\n",
      "+---+------------------+----------------------+\n",
      "| 19|                15|                    39|\n",
      "| 21|                15|                    81|\n",
      "| 20|                16|                     6|\n",
      "| 23|                16|                    77|\n",
      "| 31|                17|                    40|\n",
      "| 22|                17|                    76|\n",
      "| 35|                18|                     6|\n",
      "| 23|                18|                    94|\n",
      "| 64|                19|                     3|\n",
      "| 30|                19|                    72|\n",
      "| 67|                19|                    14|\n",
      "| 35|                19|                    99|\n",
      "| 58|                20|                    15|\n",
      "| 24|                20|                    77|\n",
      "| 37|                20|                    13|\n",
      "| 22|                20|                    79|\n",
      "| 35|                21|                    35|\n",
      "| 20|                21|                    66|\n",
      "| 52|                23|                    29|\n",
      "| 35|                23|                    98|\n",
      "+---+------------------+----------------------+\n",
      "only showing top 20 rows\n",
      "\n"
     ]
    }
   ],
   "source": [
    "#selecionando apenas algumas colunas\n",
    "data_outliers=data.select([c for c in data.columns if c in ['Age','Annual Income (k$)','Spending Score (1-100)']])\n",
    "data_outliers.show()"
   ]
  },
  {
   "cell_type": "code",
   "execution_count": 85,
   "metadata": {},
   "outputs": [
    {
     "data": {
      "text/plain": [
       "DataFrame[Age: int, Annual Income (k$): int, Spending Score (1-100): int]"
      ]
     },
     "metadata": {},
     "output_type": "display_data"
    }
   ],
   "source": [
    "#boxplot\n",
    "display(data_outliers)"
   ]
  },
  {
   "cell_type": "code",
   "execution_count": 24,
   "metadata": {},
   "outputs": [
    {
     "data": {
      "text/plain": [
       "DataFrame[Age: int, Annual Income (k$): int, Spending Score (1-100): int]"
      ]
     },
     "metadata": {},
     "output_type": "display_data"
    }
   ],
   "source": [
    "#histograma\n",
    "display(data_outliers)"
   ]
  },
  {
   "cell_type": "markdown",
   "metadata": {},
   "source": [
    "Conhecendo o dataset"
   ]
  },
  {
   "cell_type": "code",
   "execution_count": 35,
   "metadata": {},
   "outputs": [
    {
     "name": "stdout",
     "output_type": "stream",
     "text": [
      "+------+------------------+\n",
      "| Genre|Annual Income (k$)|\n",
      "+------+------------------+\n",
      "|  Male|                15|\n",
      "|  Male|                15|\n",
      "|Female|                16|\n",
      "|Female|                16|\n",
      "|Female|                17|\n",
      "|Female|                17|\n",
      "|Female|                18|\n",
      "|Female|                18|\n",
      "|  Male|                19|\n",
      "|Female|                19|\n",
      "|  Male|                19|\n",
      "|Female|                19|\n",
      "|Female|                20|\n",
      "|Female|                20|\n",
      "|  Male|                20|\n",
      "|  Male|                20|\n",
      "|Female|                21|\n",
      "|  Male|                21|\n",
      "|  Male|                23|\n",
      "|Female|                23|\n",
      "+------+------------------+\n",
      "only showing top 20 rows\n",
      "\n"
     ]
    }
   ],
   "source": [
    "#display(data.select([\"Genre\",\"Annual Income (k$)\"]))\n",
    "data.select([\"Genre\",\"Annual Income (k$)\"]).show()"
   ]
  },
  {
   "cell_type": "code",
   "execution_count": 37,
   "metadata": {},
   "outputs": [
    {
     "name": "stdout",
     "output_type": "stream",
     "text": [
      "+---+\n",
      "|Age|\n",
      "+---+\n",
      "| 19|\n",
      "| 21|\n",
      "| 20|\n",
      "| 23|\n",
      "| 31|\n",
      "| 22|\n",
      "| 35|\n",
      "| 23|\n",
      "| 64|\n",
      "| 30|\n",
      "| 67|\n",
      "| 35|\n",
      "| 58|\n",
      "| 24|\n",
      "| 37|\n",
      "| 22|\n",
      "| 35|\n",
      "| 20|\n",
      "| 52|\n",
      "| 35|\n",
      "+---+\n",
      "only showing top 20 rows\n",
      "\n"
     ]
    }
   ],
   "source": [
    "#distribuição dos consumidores pela idade\n",
    "#display(data.select([\"Age\"]))\n",
    "data.select([\"Age\"]).show()"
   ]
  },
  {
   "cell_type": "code",
   "execution_count": 39,
   "metadata": {},
   "outputs": [
    {
     "name": "stdout",
     "output_type": "stream",
     "text": [
      "+---+------+\n",
      "|Age| Genre|\n",
      "+---+------+\n",
      "| 19|  Male|\n",
      "| 21|  Male|\n",
      "| 20|Female|\n",
      "| 23|Female|\n",
      "| 31|Female|\n",
      "| 22|Female|\n",
      "| 35|Female|\n",
      "| 23|Female|\n",
      "| 64|  Male|\n",
      "| 30|Female|\n",
      "| 67|  Male|\n",
      "| 35|Female|\n",
      "| 58|Female|\n",
      "| 24|Female|\n",
      "| 37|  Male|\n",
      "| 22|  Male|\n",
      "| 35|Female|\n",
      "| 20|  Male|\n",
      "| 52|  Male|\n",
      "| 35|Female|\n",
      "+---+------+\n",
      "only showing top 20 rows\n",
      "\n"
     ]
    }
   ],
   "source": [
    "#encontrando a distribuição da idade x sexo\n",
    "#display(data.select([\"Age\",\"Genre\"]))\n",
    "data.select([\"Age\", \"Genre\"]).show()"
   ]
  },
  {
   "cell_type": "markdown",
   "metadata": {},
   "source": [
    "A variável \"Spending Score (1-100)\" ou pontuação de consumo, corresponde à nota atribuída pelo shopping aos consumidores. Quanto mais próxima de 100 indica que o consumidor é mais \"lucrativo\" para o shopping."
   ]
  },
  {
   "cell_type": "code",
   "execution_count": 40,
   "metadata": {},
   "outputs": [
    {
     "name": "stdout",
     "output_type": "stream",
     "text": [
      "+----------------------+------+\n",
      "|Spending Score (1-100)| Genre|\n",
      "+----------------------+------+\n",
      "|                    39|  Male|\n",
      "|                    81|  Male|\n",
      "|                     6|Female|\n",
      "|                    77|Female|\n",
      "|                    40|Female|\n",
      "|                    76|Female|\n",
      "|                     6|Female|\n",
      "|                    94|Female|\n",
      "|                     3|  Male|\n",
      "|                    72|Female|\n",
      "|                    14|  Male|\n",
      "|                    99|Female|\n",
      "|                    15|Female|\n",
      "|                    77|Female|\n",
      "|                    13|  Male|\n",
      "|                    79|  Male|\n",
      "|                    35|Female|\n",
      "|                    66|  Male|\n",
      "|                    29|  Male|\n",
      "|                    98|Female|\n",
      "+----------------------+------+\n",
      "only showing top 20 rows\n",
      "\n"
     ]
    }
   ],
   "source": [
    "#encontrando as notas atribuidas por gênero \n",
    "#display(data.select([\"Spending Score (1-100)\",\"Genre\"]))\n",
    "data.select([\"Spending Score (1-100)\",\"Genre\"]).show()"
   ]
  },
  {
   "cell_type": "markdown",
   "metadata": {},
   "source": [
    "Analisando a correlação entre Idade e Nota Atribuída"
   ]
  },
  {
   "cell_type": "code",
   "execution_count": 41,
   "metadata": {},
   "outputs": [],
   "source": [
    "#Analisando as correlações\n",
    "from pyspark.mllib.stat import Statistics"
   ]
  },
  {
   "cell_type": "code",
   "execution_count": 42,
   "metadata": {},
   "outputs": [],
   "source": [
    "rdd_1=data.select(\"Spending Score (1-100)\").rdd.flatMap(lambda x:x)  #utilizada para transforma das colunas do dataframe em colunas para serem empregadas na análise de correlaçoes\n",
    "rdd_2=data.select(\"Age\").rdd.flatMap(lambda x:x)"
   ]
  },
  {
   "cell_type": "code",
   "execution_count": 43,
   "metadata": {},
   "outputs": [
    {
     "data": {
      "text/plain": [
       "-0.32722684603908925"
      ]
     },
     "execution_count": 43,
     "metadata": {},
     "output_type": "execute_result"
    }
   ],
   "source": [
    "Statistics.corr(rdd_1,rdd_2,method=\"pearson\")  #definindo a coeficiente de correlação de pearson "
   ]
  },
  {
   "cell_type": "code",
   "execution_count": 44,
   "metadata": {},
   "outputs": [
    {
     "data": {
      "text/plain": [
       "-0.01239804273606026"
      ]
     },
     "execution_count": 44,
     "metadata": {},
     "output_type": "execute_result"
    }
   ],
   "source": [
    "data.stat.corr(\"Age\",\"Annual Income (k$)\",method=\"pearson\")"
   ]
  },
  {
   "cell_type": "markdown",
   "metadata": {},
   "source": [
    "Analisando a correlação por gênero"
   ]
  },
  {
   "cell_type": "code",
   "execution_count": 45,
   "metadata": {},
   "outputs": [
    {
     "name": "stdout",
     "output_type": "stream",
     "text": [
      "+----------+-----+---+------------------+----------------------+\n",
      "|CustomerID|Genre|Age|Annual Income (k$)|Spending Score (1-100)|\n",
      "+----------+-----+---+------------------+----------------------+\n",
      "|         1| Male| 19|                15|                    39|\n",
      "|         2| Male| 21|                15|                    81|\n",
      "|         9| Male| 64|                19|                     3|\n",
      "|        11| Male| 67|                19|                    14|\n",
      "|        15| Male| 37|                20|                    13|\n",
      "|        16| Male| 22|                20|                    79|\n",
      "|        18| Male| 20|                21|                    66|\n",
      "|        19| Male| 52|                23|                    29|\n",
      "|        21| Male| 35|                24|                    35|\n",
      "|        22| Male| 25|                24|                    73|\n",
      "|        24| Male| 31|                25|                    73|\n",
      "|        26| Male| 29|                28|                    82|\n",
      "|        28| Male| 35|                28|                    61|\n",
      "|        31| Male| 60|                30|                     4|\n",
      "|        33| Male| 53|                33|                     4|\n",
      "|        34| Male| 18|                33|                    92|\n",
      "|        42| Male| 24|                38|                    92|\n",
      "|        43| Male| 48|                39|                    36|\n",
      "|        52| Male| 33|                42|                    60|\n",
      "|        54| Male| 59|                43|                    60|\n",
      "+----------+-----+---+------------------+----------------------+\n",
      "only showing top 20 rows\n",
      "\n"
     ]
    }
   ],
   "source": [
    "#Selecionando os homens\n",
    "homens=data[data.Genre=='Male']\n",
    "homens.show()"
   ]
  },
  {
   "cell_type": "code",
   "execution_count": 46,
   "metadata": {},
   "outputs": [
    {
     "name": "stdout",
     "output_type": "stream",
     "text": [
      "+----------+------+---+------------------+----------------------+\n",
      "|CustomerID| Genre|Age|Annual Income (k$)|Spending Score (1-100)|\n",
      "+----------+------+---+------------------+----------------------+\n",
      "|         3|Female| 20|                16|                     6|\n",
      "|         4|Female| 23|                16|                    77|\n",
      "|         5|Female| 31|                17|                    40|\n",
      "|         6|Female| 22|                17|                    76|\n",
      "|         7|Female| 35|                18|                     6|\n",
      "|         8|Female| 23|                18|                    94|\n",
      "|        10|Female| 30|                19|                    72|\n",
      "|        12|Female| 35|                19|                    99|\n",
      "|        13|Female| 58|                20|                    15|\n",
      "|        14|Female| 24|                20|                    77|\n",
      "|        17|Female| 35|                21|                    35|\n",
      "|        20|Female| 35|                23|                    98|\n",
      "|        23|Female| 46|                25|                     5|\n",
      "|        25|Female| 54|                28|                    14|\n",
      "|        27|Female| 45|                28|                    32|\n",
      "|        29|Female| 40|                29|                    31|\n",
      "|        30|Female| 23|                29|                    87|\n",
      "|        32|Female| 21|                30|                    73|\n",
      "|        35|Female| 49|                33|                    14|\n",
      "|        36|Female| 21|                33|                    81|\n",
      "+----------+------+---+------------------+----------------------+\n",
      "only showing top 20 rows\n",
      "\n"
     ]
    }
   ],
   "source": [
    "#selecionando mulheres\n",
    "mulheres=data[data.Genre=='Female']\n",
    "mulheres.show()"
   ]
  },
  {
   "cell_type": "code",
   "execution_count": 47,
   "metadata": {},
   "outputs": [
    {
     "data": {
      "text/plain": [
       "-0.27962764627493125"
      ]
     },
     "execution_count": 47,
     "metadata": {},
     "output_type": "execute_result"
    }
   ],
   "source": [
    "#correlação entre Idade e o Salário Anual - Homens\n",
    "homens.stat.corr(\"Age\",\"Spending Score (1-100)\",method=\"pearson\")"
   ]
  },
  {
   "cell_type": "code",
   "execution_count": 48,
   "metadata": {},
   "outputs": [
    {
     "data": {
      "text/plain": [
       "-0.3754385837780473"
      ]
     },
     "execution_count": 48,
     "metadata": {},
     "output_type": "execute_result"
    }
   ],
   "source": [
    "#correlação entre Idade e o Salário Anual - Homens\n",
    "mulheres.stat.corr(\"Age\",\"Spending Score (1-100)\",method=\"pearson\")"
   ]
  },
  {
   "cell_type": "markdown",
   "metadata": {},
   "source": [
    "Aplicando o Kmeans"
   ]
  },
  {
   "cell_type": "code",
   "execution_count": 49,
   "metadata": {},
   "outputs": [],
   "source": [
    "from pyspark.ml.evaluation import ClusteringEvaluator  #biblioteca utilizada para a avaliação em cada um dos clusters\n",
    "from pyspark.ml.clustering import KMeans #biblioteca utilizada para a criação do modelo de clusterização utilizando o K-means"
   ]
  },
  {
   "cell_type": "code",
   "execution_count": 50,
   "metadata": {},
   "outputs": [
    {
     "name": "stdout",
     "output_type": "stream",
     "text": [
      "+----------+------+---+------------------+----------------------+-----------+\n",
      "|CustomerID| Genre|Age|Annual Income (k$)|Spending Score (1-100)|   features|\n",
      "+----------+------+---+------------------+----------------------+-----------+\n",
      "|         1|  Male| 19|                15|                    39|[39.0,15.0]|\n",
      "|         2|  Male| 21|                15|                    81|[81.0,15.0]|\n",
      "|         3|Female| 20|                16|                     6| [6.0,16.0]|\n",
      "|         4|Female| 23|                16|                    77|[77.0,16.0]|\n",
      "|         5|Female| 31|                17|                    40|[40.0,17.0]|\n",
      "|         6|Female| 22|                17|                    76|[76.0,17.0]|\n",
      "|         7|Female| 35|                18|                     6| [6.0,18.0]|\n",
      "|         8|Female| 23|                18|                    94|[94.0,18.0]|\n",
      "|         9|  Male| 64|                19|                     3| [3.0,19.0]|\n",
      "|        10|Female| 30|                19|                    72|[72.0,19.0]|\n",
      "|        11|  Male| 67|                19|                    14|[14.0,19.0]|\n",
      "|        12|Female| 35|                19|                    99|[99.0,19.0]|\n",
      "|        13|Female| 58|                20|                    15|[15.0,20.0]|\n",
      "|        14|Female| 24|                20|                    77|[77.0,20.0]|\n",
      "|        15|  Male| 37|                20|                    13|[13.0,20.0]|\n",
      "|        16|  Male| 22|                20|                    79|[79.0,20.0]|\n",
      "|        17|Female| 35|                21|                    35|[35.0,21.0]|\n",
      "|        18|  Male| 20|                21|                    66|[66.0,21.0]|\n",
      "|        19|  Male| 52|                23|                    29|[29.0,23.0]|\n",
      "|        20|Female| 35|                23|                    98|[98.0,23.0]|\n",
      "+----------+------+---+------------------+----------------------+-----------+\n",
      "only showing top 20 rows\n",
      "\n"
     ]
    }
   ],
   "source": [
    "from pyspark.ml.feature import VectorAssembler  #transformando os dados em vetores de características\n",
    "\n",
    "vecAssembler = VectorAssembler(inputCols=[\"Spending Score (1-100)\",\"Annual Income (k$)\"], outputCol=\"features\") #utilizada para transformar os dados em um vetor (define o objeto)\n",
    "new_df = vecAssembler.transform(data) #Aplico a transformação\n",
    "new_df.show()"
   ]
  },
  {
   "cell_type": "code",
   "execution_count": 93,
   "metadata": {},
   "outputs": [],
   "source": [
    "#aplica o processo de clusterização\n",
    "kmeans = KMeans(k=3, seed=1)  # declara o objeto - 3 clusters \n",
    "model = kmeans.fit(new_df.select('features')) #aplica o treinamento"
   ]
  },
  {
   "cell_type": "code",
   "execution_count": 94,
   "metadata": {},
   "outputs": [
    {
     "name": "stdout",
     "output_type": "stream",
     "text": [
      "+----------+------+---+------------------+----------------------+-----------+----------+\n",
      "|CustomerID| Genre|Age|Annual Income (k$)|Spending Score (1-100)|   features|prediction|\n",
      "+----------+------+---+------------------+----------------------+-----------+----------+\n",
      "|         1|  Male| 19|                15|                    39|[39.0,15.0]|         1|\n",
      "|         2|  Male| 21|                15|                    81|[81.0,15.0]|         1|\n",
      "|         3|Female| 20|                16|                     6| [6.0,16.0]|         1|\n",
      "|         4|Female| 23|                16|                    77|[77.0,16.0]|         1|\n",
      "|         5|Female| 31|                17|                    40|[40.0,17.0]|         1|\n",
      "|         6|Female| 22|                17|                    76|[76.0,17.0]|         1|\n",
      "|         7|Female| 35|                18|                     6| [6.0,18.0]|         1|\n",
      "|         8|Female| 23|                18|                    94|[94.0,18.0]|         1|\n",
      "|         9|  Male| 64|                19|                     3| [3.0,19.0]|         1|\n",
      "|        10|Female| 30|                19|                    72|[72.0,19.0]|         1|\n",
      "|        11|  Male| 67|                19|                    14|[14.0,19.0]|         1|\n",
      "|        12|Female| 35|                19|                    99|[99.0,19.0]|         1|\n",
      "|        13|Female| 58|                20|                    15|[15.0,20.0]|         1|\n",
      "|        14|Female| 24|                20|                    77|[77.0,20.0]|         1|\n",
      "|        15|  Male| 37|                20|                    13|[13.0,20.0]|         1|\n",
      "|        16|  Male| 22|                20|                    79|[79.0,20.0]|         1|\n",
      "|        17|Female| 35|                21|                    35|[35.0,21.0]|         1|\n",
      "|        18|  Male| 20|                21|                    66|[66.0,21.0]|         1|\n",
      "|        19|  Male| 52|                23|                    29|[29.0,23.0]|         1|\n",
      "|        20|Female| 35|                23|                    98|[98.0,23.0]|         1|\n",
      "+----------+------+---+------------------+----------------------+-----------+----------+\n",
      "only showing top 20 rows\n",
      "\n"
     ]
    }
   ],
   "source": [
    "#cria o dataset com a indicação sobre qual cluster cada conjunto de dados foi adicionado\n",
    "df_final = model.transform(new_df)\n",
    "df_final.show() "
   ]
  },
  {
   "cell_type": "code",
   "execution_count": 95,
   "metadata": {},
   "outputs": [
    {
     "name": "stdout",
     "output_type": "stream",
     "text": [
      "+-------+------------------+------+-----------------+------------------+----------------------+\n",
      "|summary|        CustomerID| Genre|              Age|Annual Income (k$)|Spending Score (1-100)|\n",
      "+-------+------------------+------+-----------------+------------------+----------------------+\n",
      "|  count|               200|   200|              200|               200|                   200|\n",
      "|   mean|             100.5|  null|            38.85|             60.56|                  50.2|\n",
      "| stddev|57.879184513951124|  null|13.96900733155888| 26.26472116527124|    25.823521668370173|\n",
      "|    min|                 1|Female|               18|                15|                     1|\n",
      "|    max|               200|  Male|               70|               137|                    99|\n",
      "+-------+------------------+------+-----------------+------------------+----------------------+\n",
      "\n"
     ]
    }
   ],
   "source": [
    "data.describe().show()"
   ]
  },
  {
   "cell_type": "code",
   "execution_count": 96,
   "metadata": {},
   "outputs": [
    {
     "name": "stdout",
     "output_type": "stream",
     "text": [
      "+----------+-----+\n",
      "|prediction|count|\n",
      "+----------+-----+\n",
      "|         1|  123|\n",
      "|         2|   39|\n",
      "|         0|   38|\n",
      "+----------+-----+\n",
      "\n"
     ]
    }
   ],
   "source": [
    "df_final.groupby('prediction').count().show()"
   ]
  },
  {
   "cell_type": "code",
   "execution_count": 97,
   "metadata": {},
   "outputs": [
    {
     "data": {
      "text/html": [
       "<div>\n",
       "<style scoped>\n",
       "    .dataframe tbody tr th:only-of-type {\n",
       "        vertical-align: middle;\n",
       "    }\n",
       "\n",
       "    .dataframe tbody tr th {\n",
       "        vertical-align: top;\n",
       "    }\n",
       "\n",
       "    .dataframe thead th {\n",
       "        text-align: right;\n",
       "    }\n",
       "</style>\n",
       "<table border=\"1\" class=\"dataframe\">\n",
       "  <thead>\n",
       "    <tr style=\"text-align: right;\">\n",
       "      <th></th>\n",
       "      <th>Genre</th>\n",
       "      <th>Age</th>\n",
       "      <th>Annual Income (k$)</th>\n",
       "      <th>Spending Score (1-100)</th>\n",
       "      <th>features</th>\n",
       "      <th>prediction</th>\n",
       "    </tr>\n",
       "    <tr>\n",
       "      <th>CustomerID</th>\n",
       "      <th></th>\n",
       "      <th></th>\n",
       "      <th></th>\n",
       "      <th></th>\n",
       "      <th></th>\n",
       "      <th></th>\n",
       "    </tr>\n",
       "  </thead>\n",
       "  <tbody>\n",
       "    <tr>\n",
       "      <th>1</th>\n",
       "      <td>Male</td>\n",
       "      <td>19</td>\n",
       "      <td>15</td>\n",
       "      <td>39</td>\n",
       "      <td>[39.0, 15.0]</td>\n",
       "      <td>1</td>\n",
       "    </tr>\n",
       "    <tr>\n",
       "      <th>2</th>\n",
       "      <td>Male</td>\n",
       "      <td>21</td>\n",
       "      <td>15</td>\n",
       "      <td>81</td>\n",
       "      <td>[81.0, 15.0]</td>\n",
       "      <td>1</td>\n",
       "    </tr>\n",
       "    <tr>\n",
       "      <th>3</th>\n",
       "      <td>Female</td>\n",
       "      <td>20</td>\n",
       "      <td>16</td>\n",
       "      <td>6</td>\n",
       "      <td>[6.0, 16.0]</td>\n",
       "      <td>1</td>\n",
       "    </tr>\n",
       "    <tr>\n",
       "      <th>4</th>\n",
       "      <td>Female</td>\n",
       "      <td>23</td>\n",
       "      <td>16</td>\n",
       "      <td>77</td>\n",
       "      <td>[77.0, 16.0]</td>\n",
       "      <td>1</td>\n",
       "    </tr>\n",
       "    <tr>\n",
       "      <th>5</th>\n",
       "      <td>Female</td>\n",
       "      <td>31</td>\n",
       "      <td>17</td>\n",
       "      <td>40</td>\n",
       "      <td>[40.0, 17.0]</td>\n",
       "      <td>1</td>\n",
       "    </tr>\n",
       "  </tbody>\n",
       "</table>\n",
       "</div>"
      ],
      "text/plain": [
       "             Genre  Age  Annual Income (k$)  Spending Score (1-100)  \\\n",
       "CustomerID                                                            \n",
       "1             Male   19                  15                      39   \n",
       "2             Male   21                  15                      81   \n",
       "3           Female   20                  16                       6   \n",
       "4           Female   23                  16                      77   \n",
       "5           Female   31                  17                      40   \n",
       "\n",
       "                features  prediction  \n",
       "CustomerID                            \n",
       "1           [39.0, 15.0]           1  \n",
       "2           [81.0, 15.0]           1  \n",
       "3            [6.0, 16.0]           1  \n",
       "4           [77.0, 16.0]           1  \n",
       "5           [40.0, 17.0]           1  "
      ]
     },
     "execution_count": 97,
     "metadata": {},
     "output_type": "execute_result"
    }
   ],
   "source": [
    "#transformando os dados utilizando o pandas \n",
    "data_pandas = df_final.toPandas().set_index('CustomerID')\n",
    "data_pandas.head()"
   ]
  },
  {
   "cell_type": "code",
   "execution_count": 98,
   "metadata": {},
   "outputs": [
    {
     "data": {
      "image/png": "[encoded data removed]",
      "text/plain": [
       "<Figure size 864x720 with 1 Axes>"
      ]
     },
     "metadata": {
      "needs_background": "light"
     },
     "output_type": "display_data"
    }
   ],
   "source": [
    "import matplotlib.pyplot as plt\n",
    "\n",
    "plt.figure(figsize=(12,10))\n",
    "plt.scatter(data_pandas['Annual Income (k$)'], data_pandas['Spending Score (1-100)'], c=data_pandas.prediction)\n",
    "plt.xlabel('Annual Income (k$)')\n",
    "plt.ylabel('Spending Score (1-100)')\n",
    "plt.show()"
   ]
  },
  {
   "cell_type": "code",
   "execution_count": null,
   "metadata": {},
   "outputs": [],
   "source": []
  }
 ],
 "metadata": {
  "kernelspec": {
   "display_name": "Python 3",
   "language": "python",
   "name": "python3"
  },
  "language_info": {
   "codemirror_mode": {
    "name": "ipython",
    "version": 3
   },
   "file_extension": ".py",
   "mimetype": "text/x-python",
   "name": "python",
   "nbconvert_exporter": "python",
   "pygments_lexer": "ipython3",
   "version": "3.7.6"
  },
  "name": "desafio_bootcamp_tpd",
  "notebookId": 3192514136504053
 },
 "nbformat": 4,
 "nbformat_minor": 1
}
