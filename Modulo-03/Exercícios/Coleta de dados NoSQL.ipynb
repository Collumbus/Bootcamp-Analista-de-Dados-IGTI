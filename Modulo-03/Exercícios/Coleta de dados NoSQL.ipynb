{
 "cells": [
  {
   "cell_type": "markdown",
   "metadata": {},
   "source": [
    "# Coleta de Dados no MongoDB"
   ]
  },
  {
   "cell_type": "code",
   "execution_count": 1,
   "metadata": {},
   "outputs": [],
   "source": [
    "import pymongo"
   ]
  },
  {
   "cell_type": "code",
   "execution_count": 2,
   "metadata": {},
   "outputs": [],
   "source": [
    "# Conexão com o banco de dados\n",
    "con = pymongo.MongoClient('localhost', 27017)"
   ]
  },
  {
   "cell_type": "code",
   "execution_count": 3,
   "metadata": {},
   "outputs": [
    {
     "data": {
      "text/plain": [
       "['admin', 'config', 'local']"
      ]
     },
     "execution_count": 3,
     "metadata": {},
     "output_type": "execute_result"
    }
   ],
   "source": [
    "# Listar os bancos de dados\n",
    "con.list_database_names()"
   ]
  },
  {
   "cell_type": "code",
   "execution_count": 4,
   "metadata": {},
   "outputs": [],
   "source": [
    "# Seleciona banco de dados\n",
    "db = con.local\n",
    "#db = con.igti"
   ]
  },
  {
   "cell_type": "code",
   "execution_count": 5,
   "metadata": {},
   "outputs": [
    {
     "data": {
      "text/plain": [
       "Database(MongoClient(host=['localhost:27017'], document_class=dict, tz_aware=False, connect=True), 'local')"
      ]
     },
     "execution_count": 5,
     "metadata": {},
     "output_type": "execute_result"
    }
   ],
   "source": [
    "db"
   ]
  },
  {
   "cell_type": "code",
   "execution_count": 6,
   "metadata": {},
   "outputs": [
    {
     "data": {
      "text/plain": [
       "['startup_log']"
      ]
     },
     "execution_count": 6,
     "metadata": {},
     "output_type": "execute_result"
    }
   ],
   "source": [
    "# Listar as coleções\n",
    "db.list_collection_names()"
   ]
  },
  {
   "cell_type": "code",
   "execution_count": 7,
   "metadata": {},
   "outputs": [],
   "source": [
    "# Selecionar coleção\n",
    "collection = db.startup_log\n",
    "#collection = db.megasena"
   ]
  },
  {
   "cell_type": "code",
   "execution_count": 8,
   "metadata": {},
   "outputs": [
    {
     "data": {
      "text/plain": [
       "{'_id': 'T-800-1592937387516',\n",
       " 'hostname': 'T-800',\n",
       " 'startTime': datetime.datetime(2020, 6, 23, 18, 36, 27),\n",
       " 'startTimeLocal': 'Tue Jun 23 15:36:27.516',\n",
       " 'cmdLine': {'config': 'C:\\\\Program Files\\\\MongoDB\\\\Server\\\\4.2\\\\bin\\\\mongod.cfg',\n",
       "  'net': {'bindIp': '127.0.0.1', 'port': 27017},\n",
       "  'service': True,\n",
       "  'storage': {'dbPath': 'D:\\\\Program Files\\\\MongoDB\\\\Server\\\\4.2\\\\data',\n",
       "   'journal': {'enabled': True}},\n",
       "  'systemLog': {'destination': 'file',\n",
       "   'logAppend': True,\n",
       "   'path': 'D:\\\\Program Files\\\\MongoDB\\\\Server\\\\4.2\\\\log\\\\mongod.log'}},\n",
       " 'pid': 28024,\n",
       " 'buildinfo': {'version': '4.2.8',\n",
       "  'gitVersion': '43d25964249164d76d5e04dd6cf38f6111e21f5f',\n",
       "  'targetMinOS': 'Windows 7/Windows Server 2008 R2',\n",
       "  'modules': [],\n",
       "  'allocator': 'tcmalloc',\n",
       "  'javascriptEngine': 'mozjs',\n",
       "  'sysInfo': 'deprecated',\n",
       "  'versionArray': [4, 2, 8, 0],\n",
       "  'openssl': {'running': 'Windows SChannel'},\n",
       "  'buildEnvironment': {'distmod': '2012plus',\n",
       "   'distarch': 'x86_64',\n",
       "   'cc': 'cl: Microsoft (R) C/C++ Optimizing Compiler Version 19.16.27038 for x64',\n",
       "   'ccflags': '/nologo /EHsc /W3 /wd4068 /wd4244 /wd4267 /wd4290 /wd4351 /wd4355 /wd4373 /wd4800 /wd5041 /wd4291 /we4013 /we4099 /we4930 /WX /errorReport:none /MD /O2 /Oy- /bigobj /utf-8 /permissive- /Zc:__cplusplus /Zc:sizedDealloc /volatile:iso /diagnostics:caret /std:c++17 /Gw /Gy /Zc:inline',\n",
       "   'cxx': 'cl: Microsoft (R) C/C++ Optimizing Compiler Version 19.16.27038 for x64',\n",
       "   'cxxflags': '/TP',\n",
       "   'linkflags': '/nologo /DEBUG /INCREMENTAL:NO /LARGEADDRESSAWARE /OPT:REF',\n",
       "   'target_arch': 'x86_64',\n",
       "   'target_os': 'windows'},\n",
       "  'bits': 64,\n",
       "  'debug': False,\n",
       "  'maxBsonObjectSize': 16777216,\n",
       "  'storageEngines': ['biggie', 'devnull', 'ephemeralForTest', 'wiredTiger']}}"
      ]
     },
     "execution_count": 8,
     "metadata": {},
     "output_type": "execute_result"
    }
   ],
   "source": [
    "# Selecionar o primeiro elemento da coleção\n",
    "collection.find_one()"
   ]
  },
  {
   "cell_type": "code",
   "execution_count": 10,
   "metadata": {},
   "outputs": [
    {
     "name": "stdout",
     "output_type": "stream",
     "text": [
      "{'_id': 'T-800-1592937387516', 'hostname': 'T-800', 'startTime': datetime.datetime(2020, 6, 23, 18, 36, 27), 'startTimeLocal': 'Tue Jun 23 15:36:27.516', 'cmdLine': {'config': 'C:\\\\Program Files\\\\MongoDB\\\\Server\\\\4.2\\\\bin\\\\mongod.cfg', 'net': {'bindIp': '127.0.0.1', 'port': 27017}, 'service': True, 'storage': {'dbPath': 'D:\\\\Program Files\\\\MongoDB\\\\Server\\\\4.2\\\\data', 'journal': {'enabled': True}}, 'systemLog': {'destination': 'file', 'logAppend': True, 'path': 'D:\\\\Program Files\\\\MongoDB\\\\Server\\\\4.2\\\\log\\\\mongod.log'}}, 'pid': 28024, 'buildinfo': {'version': '4.2.8', 'gitVersion': '43d25964249164d76d5e04dd6cf38f6111e21f5f', 'targetMinOS': 'Windows 7/Windows Server 2008 R2', 'modules': [], 'allocator': 'tcmalloc', 'javascriptEngine': 'mozjs', 'sysInfo': 'deprecated', 'versionArray': [4, 2, 8, 0], 'openssl': {'running': 'Windows SChannel'}, 'buildEnvironment': {'distmod': '2012plus', 'distarch': 'x86_64', 'cc': 'cl: Microsoft (R) C/C++ Optimizing Compiler Version 19.16.27038 for x64', 'ccflags': '/nologo /EHsc /W3 /wd4068 /wd4244 /wd4267 /wd4290 /wd4351 /wd4355 /wd4373 /wd4800 /wd5041 /wd4291 /we4013 /we4099 /we4930 /WX /errorReport:none /MD /O2 /Oy- /bigobj /utf-8 /permissive- /Zc:__cplusplus /Zc:sizedDealloc /volatile:iso /diagnostics:caret /std:c++17 /Gw /Gy /Zc:inline', 'cxx': 'cl: Microsoft (R) C/C++ Optimizing Compiler Version 19.16.27038 for x64', 'cxxflags': '/TP', 'linkflags': '/nologo /DEBUG /INCREMENTAL:NO /LARGEADDRESSAWARE /OPT:REF', 'target_arch': 'x86_64', 'target_os': 'windows'}, 'bits': 64, 'debug': False, 'maxBsonObjectSize': 16777216, 'storageEngines': ['biggie', 'devnull', 'ephemeralForTest', 'wiredTiger']}}\n"
     ]
    }
   ],
   "source": [
    "# Selecionar o primeiro documento da coleção que atenda a condição\n",
    "print(collection.find_one({'hostname': 'T-800'}))\n",
    "#print(collection.find_one({'Ganhadores_Sena': '0'}))"
   ]
  },
  {
   "cell_type": "code",
   "execution_count": 11,
   "metadata": {},
   "outputs": [],
   "source": [
    "#imprimir no formato json\n",
    "import pprint"
   ]
  },
  {
   "cell_type": "code",
   "execution_count": 12,
   "metadata": {},
   "outputs": [
    {
     "name": "stdout",
     "output_type": "stream",
     "text": [
      "{'_id': 'T-800-1592937387516',\n",
      " 'buildinfo': {'allocator': 'tcmalloc',\n",
      "               'bits': 64,\n",
      "               'buildEnvironment': {'cc': 'cl: Microsoft (R) C/C++ Optimizing '\n",
      "                                          'Compiler Version 19.16.27038 for '\n",
      "                                          'x64',\n",
      "                                    'ccflags': '/nologo /EHsc /W3 /wd4068 '\n",
      "                                               '/wd4244 /wd4267 /wd4290 '\n",
      "                                               '/wd4351 /wd4355 /wd4373 '\n",
      "                                               '/wd4800 /wd5041 /wd4291 '\n",
      "                                               '/we4013 /we4099 /we4930 /WX '\n",
      "                                               '/errorReport:none /MD /O2 /Oy- '\n",
      "                                               '/bigobj /utf-8 /permissive- '\n",
      "                                               '/Zc:__cplusplus '\n",
      "                                               '/Zc:sizedDealloc /volatile:iso '\n",
      "                                               '/diagnostics:caret /std:c++17 '\n",
      "                                               '/Gw /Gy /Zc:inline',\n",
      "                                    'cxx': 'cl: Microsoft (R) C/C++ Optimizing '\n",
      "                                           'Compiler Version 19.16.27038 for '\n",
      "                                           'x64',\n",
      "                                    'cxxflags': '/TP',\n",
      "                                    'distarch': 'x86_64',\n",
      "                                    'distmod': '2012plus',\n",
      "                                    'linkflags': '/nologo /DEBUG '\n",
      "                                                 '/INCREMENTAL:NO '\n",
      "                                                 '/LARGEADDRESSAWARE /OPT:REF',\n",
      "                                    'target_arch': 'x86_64',\n",
      "                                    'target_os': 'windows'},\n",
      "               'debug': False,\n",
      "               'gitVersion': '43d25964249164d76d5e04dd6cf38f6111e21f5f',\n",
      "               'javascriptEngine': 'mozjs',\n",
      "               'maxBsonObjectSize': 16777216,\n",
      "               'modules': [],\n",
      "               'openssl': {'running': 'Windows SChannel'},\n",
      "               'storageEngines': ['biggie',\n",
      "                                  'devnull',\n",
      "                                  'ephemeralForTest',\n",
      "                                  'wiredTiger'],\n",
      "               'sysInfo': 'deprecated',\n",
      "               'targetMinOS': 'Windows 7/Windows Server 2008 R2',\n",
      "               'version': '4.2.8',\n",
      "               'versionArray': [4, 2, 8, 0]},\n",
      " 'cmdLine': {'config': 'C:\\\\Program '\n",
      "                       'Files\\\\MongoDB\\\\Server\\\\4.2\\\\bin\\\\mongod.cfg',\n",
      "             'net': {'bindIp': '127.0.0.1', 'port': 27017},\n",
      "             'service': True,\n",
      "             'storage': {'dbPath': 'D:\\\\Program '\n",
      "                                   'Files\\\\MongoDB\\\\Server\\\\4.2\\\\data',\n",
      "                         'journal': {'enabled': True}},\n",
      "             'systemLog': {'destination': 'file',\n",
      "                           'logAppend': True,\n",
      "                           'path': 'D:\\\\Program '\n",
      "                                   'Files\\\\MongoDB\\\\Server\\\\4.2\\\\log\\\\mongod.log'}},\n",
      " 'hostname': 'T-800',\n",
      " 'pid': 28024,\n",
      " 'startTime': datetime.datetime(2020, 6, 23, 18, 36, 27),\n",
      " 'startTimeLocal': 'Tue Jun 23 15:36:27.516'}\n"
     ]
    }
   ],
   "source": [
    "pprint.pprint(collection.find_one({'hostname': 'T-800'}))\n",
    "#pprint.pprint(collection.find_one({Ganhadores_Sena': '0'}))"
   ]
  },
  {
   "cell_type": "code",
   "execution_count": null,
   "metadata": {},
   "outputs": [],
   "source": [
    "# Selecionar o primeiro documento que atenda a condição\n",
    "pprint.pprint(collection.find_one({'Concurso': '100'}))"
   ]
  },
  {
   "cell_type": "code",
   "execution_count": 17,
   "metadata": {},
   "outputs": [
    {
     "name": "stdout",
     "output_type": "stream",
     "text": [
      "{'_id': 'T-800-1592937387516',\n",
      " 'buildinfo': {'allocator': 'tcmalloc',\n",
      "               'bits': 64,\n",
      "               'buildEnvironment': {'cc': 'cl: Microsoft (R) C/C++ Optimizing '\n",
      "                                          'Compiler Version 19.16.27038 for '\n",
      "                                          'x64',\n",
      "                                    'ccflags': '/nologo /EHsc /W3 /wd4068 '\n",
      "                                               '/wd4244 /wd4267 /wd4290 '\n",
      "                                               '/wd4351 /wd4355 /wd4373 '\n",
      "                                               '/wd4800 /wd5041 /wd4291 '\n",
      "                                               '/we4013 /we4099 /we4930 /WX '\n",
      "                                               '/errorReport:none /MD /O2 /Oy- '\n",
      "                                               '/bigobj /utf-8 /permissive- '\n",
      "                                               '/Zc:__cplusplus '\n",
      "                                               '/Zc:sizedDealloc /volatile:iso '\n",
      "                                               '/diagnostics:caret /std:c++17 '\n",
      "                                               '/Gw /Gy /Zc:inline',\n",
      "                                    'cxx': 'cl: Microsoft (R) C/C++ Optimizing '\n",
      "                                           'Compiler Version 19.16.27038 for '\n",
      "                                           'x64',\n",
      "                                    'cxxflags': '/TP',\n",
      "                                    'distarch': 'x86_64',\n",
      "                                    'distmod': '2012plus',\n",
      "                                    'linkflags': '/nologo /DEBUG '\n",
      "                                                 '/INCREMENTAL:NO '\n",
      "                                                 '/LARGEADDRESSAWARE /OPT:REF',\n",
      "                                    'target_arch': 'x86_64',\n",
      "                                    'target_os': 'windows'},\n",
      "               'debug': False,\n",
      "               'gitVersion': '43d25964249164d76d5e04dd6cf38f6111e21f5f',\n",
      "               'javascriptEngine': 'mozjs',\n",
      "               'maxBsonObjectSize': 16777216,\n",
      "               'modules': [],\n",
      "               'openssl': {'running': 'Windows SChannel'},\n",
      "               'storageEngines': ['biggie',\n",
      "                                  'devnull',\n",
      "                                  'ephemeralForTest',\n",
      "                                  'wiredTiger'],\n",
      "               'sysInfo': 'deprecated',\n",
      "               'targetMinOS': 'Windows 7/Windows Server 2008 R2',\n",
      "               'version': '4.2.8',\n",
      "               'versionArray': [4, 2, 8, 0]},\n",
      " 'cmdLine': {'config': 'C:\\\\Program '\n",
      "                       'Files\\\\MongoDB\\\\Server\\\\4.2\\\\bin\\\\mongod.cfg',\n",
      "             'net': {'bindIp': '127.0.0.1', 'port': 27017},\n",
      "             'service': True,\n",
      "             'storage': {'dbPath': 'D:\\\\Program '\n",
      "                                   'Files\\\\MongoDB\\\\Server\\\\4.2\\\\data',\n",
      "                         'journal': {'enabled': True}},\n",
      "             'systemLog': {'destination': 'file',\n",
      "                           'logAppend': True,\n",
      "                           'path': 'D:\\\\Program '\n",
      "                                   'Files\\\\MongoDB\\\\Server\\\\4.2\\\\log\\\\mongod.log'}},\n",
      " 'hostname': 'T-800',\n",
      " 'pid': 28024,\n",
      " 'startTime': datetime.datetime(2020, 6, 23, 18, 36, 27),\n",
      " 'startTimeLocal': 'Tue Jun 23 15:36:27.516'}\n"
     ]
    }
   ],
   "source": [
    "# Selecionar os documentos da coleção que atendam a condição e imprimir os documentos\n",
    "for docs in collection.find({'hostname': 'T-800'}):\n",
    "#for docs in collection.find({'Ganhadores_Sena': '5'}):\n",
    "    pprint.pprint(docs)\n"
   ]
  },
  {
   "cell_type": "markdown",
   "metadata": {},
   "source": [
    "#### Criar banco de dados e coleção"
   ]
  },
  {
   "cell_type": "code",
   "execution_count": 18,
   "metadata": {},
   "outputs": [],
   "source": [
    "con = pymongo.MongoClient('mongodb://localhost:27017/')"
   ]
  },
  {
   "cell_type": "code",
   "execution_count": 19,
   "metadata": {},
   "outputs": [
    {
     "data": {
      "text/plain": [
       "['admin', 'config', 'local']"
      ]
     },
     "execution_count": 19,
     "metadata": {},
     "output_type": "execute_result"
    }
   ],
   "source": [
    "con.list_database_names()"
   ]
  },
  {
   "cell_type": "code",
   "execution_count": 20,
   "metadata": {},
   "outputs": [],
   "source": [
    "db = con['Vendas']"
   ]
  },
  {
   "cell_type": "code",
   "execution_count": 21,
   "metadata": {},
   "outputs": [
    {
     "data": {
      "text/plain": [
       "['admin', 'config', 'local']"
      ]
     },
     "execution_count": 21,
     "metadata": {},
     "output_type": "execute_result"
    }
   ],
   "source": [
    "con.list_database_names()"
   ]
  },
  {
   "cell_type": "code",
   "execution_count": 22,
   "metadata": {},
   "outputs": [],
   "source": [
    "colecao = db['clientes']"
   ]
  },
  {
   "cell_type": "code",
   "execution_count": 23,
   "metadata": {},
   "outputs": [
    {
     "data": {
      "text/plain": [
       "[]"
      ]
     },
     "execution_count": 23,
     "metadata": {},
     "output_type": "execute_result"
    }
   ],
   "source": [
    "db.list_collection_names()"
   ]
  },
  {
   "cell_type": "code",
   "execution_count": 24,
   "metadata": {},
   "outputs": [],
   "source": [
    "documento = {'nome': 'maria', 'idade': 23}"
   ]
  },
  {
   "cell_type": "code",
   "execution_count": 25,
   "metadata": {},
   "outputs": [],
   "source": [
    "inserir = colecao.insert_one(documento)"
   ]
  },
  {
   "cell_type": "code",
   "execution_count": 26,
   "metadata": {},
   "outputs": [
    {
     "name": "stdout",
     "output_type": "stream",
     "text": [
      "<pymongo.results.InsertOneResult object at 0x00000276B44CB4C8>\n"
     ]
    }
   ],
   "source": [
    "print(inserir)"
   ]
  },
  {
   "cell_type": "code",
   "execution_count": 27,
   "metadata": {},
   "outputs": [
    {
     "data": {
      "text/plain": [
       "['Vendas', 'admin', 'config', 'local']"
      ]
     },
     "execution_count": 27,
     "metadata": {},
     "output_type": "execute_result"
    }
   ],
   "source": [
    "con.list_database_names()"
   ]
  },
  {
   "cell_type": "code",
   "execution_count": 28,
   "metadata": {},
   "outputs": [
    {
     "data": {
      "text/plain": [
       "['clientes']"
      ]
     },
     "execution_count": 28,
     "metadata": {},
     "output_type": "execute_result"
    }
   ],
   "source": [
    "db.list_collection_names()"
   ]
  },
  {
   "cell_type": "code",
   "execution_count": 29,
   "metadata": {},
   "outputs": [
    {
     "name": "stdout",
     "output_type": "stream",
     "text": [
      "{'_id': ObjectId('5ef2557d614708455b674988'), 'nome': 'maria', 'idade': 23}\n"
     ]
    }
   ],
   "source": [
    "print(colecao.find_one())"
   ]
  },
  {
   "cell_type": "code",
   "execution_count": 30,
   "metadata": {},
   "outputs": [
    {
     "name": "stdout",
     "output_type": "stream",
     "text": [
      "{'_id': ObjectId('5ef2557d614708455b674988'), 'idade': 23, 'nome': 'maria'}\n"
     ]
    }
   ],
   "source": [
    "for docs in colecao.find():\n",
    "    pprint.pprint(docs)"
   ]
  },
  {
   "cell_type": "code",
   "execution_count": 32,
   "metadata": {},
   "outputs": [],
   "source": [
    "regs = [\n",
    "    {'nome': 'jorge', 'idade': 33},\n",
    "    {'nome': 'ana'},\n",
    "    {'nome': 'William', 'endereço': 'Avenida Cenral n. 954'},\n",
    "    {'nome': 'ana', 'endereço': 'Avenida Cenral n. 954'},\n",
    "    {'nome': 'William', 'endereço': 'Avenida Cenral n. 954'},\n",
    "    {'nome': 'William'}\n",
    "]"
   ]
  },
  {
   "cell_type": "code",
   "execution_count": 33,
   "metadata": {},
   "outputs": [
    {
     "name": "stdout",
     "output_type": "stream",
     "text": [
      "[{'idade': 33, 'nome': 'jorge'},\n",
      " {'nome': 'ana'},\n",
      " {'endereço': 'Avenida Cenral n. 954', 'nome': 'William'},\n",
      " {'endereço': 'Avenida Cenral n. 954', 'nome': 'ana'},\n",
      " {'endereço': 'Avenida Cenral n. 954', 'nome': 'William'},\n",
      " {'nome': 'William'}]\n"
     ]
    }
   ],
   "source": [
    "pprint.pprint(regs)"
   ]
  },
  {
   "cell_type": "code",
   "execution_count": 34,
   "metadata": {},
   "outputs": [],
   "source": [
    "inserir = colecao.insert_many(regs)"
   ]
  },
  {
   "cell_type": "code",
   "execution_count": 35,
   "metadata": {},
   "outputs": [
    {
     "name": "stdout",
     "output_type": "stream",
     "text": [
      "<pymongo.results.InsertManyResult object at 0x00000276B4E36C08>\n"
     ]
    }
   ],
   "source": [
    "print(inserir)"
   ]
  },
  {
   "cell_type": "code",
   "execution_count": 36,
   "metadata": {},
   "outputs": [
    {
     "name": "stdout",
     "output_type": "stream",
     "text": [
      "{'_id': ObjectId('5ef2557d614708455b674988'), 'idade': 23, 'nome': 'maria'}\n",
      "{'_id': ObjectId('5ef256f7614708455b674989'), 'idade': 33, 'nome': 'jorge'}\n",
      "{'_id': ObjectId('5ef256f7614708455b67498a'), 'nome': 'ana'}\n",
      "{'_id': ObjectId('5ef256f7614708455b67498b'),\n",
      " 'endereço': 'Avenida Cenral n. 954',\n",
      " 'nome': 'William'}\n",
      "{'_id': ObjectId('5ef256f7614708455b67498c'),\n",
      " 'endereço': 'Avenida Cenral n. 954',\n",
      " 'nome': 'ana'}\n",
      "{'_id': ObjectId('5ef256f7614708455b67498d'),\n",
      " 'endereço': 'Avenida Cenral n. 954',\n",
      " 'nome': 'William'}\n",
      "{'_id': ObjectId('5ef256f7614708455b67498e'), 'nome': 'William'}\n"
     ]
    }
   ],
   "source": [
    "for docs in colecao.find():\n",
    "    pprint.pprint(docs)"
   ]
  },
  {
   "cell_type": "code",
   "execution_count": 37,
   "metadata": {},
   "outputs": [
    {
     "name": "stdout",
     "output_type": "stream",
     "text": [
      "{'_id': ObjectId('5ef2557d614708455b674988'), 'idade': 23, 'nome': 'maria'}\n",
      "{'_id': ObjectId('5ef256f7614708455b674989'), 'idade': 33, 'nome': 'jorge'}\n",
      "{'_id': ObjectId('5ef256f7614708455b67498a'),\n",
      " 'logradouro': 'Avenida JK',\n",
      " 'nome': 'ana',\n",
      " 'num': 345}\n",
      "{'_id': ObjectId('5ef256f7614708455b67498b'),\n",
      " 'endereço': 'Avenida Cenral n. 954',\n",
      " 'nome': 'William'}\n",
      "{'_id': ObjectId('5ef256f7614708455b67498c'),\n",
      " 'endereço': 'Avenida Cenral n. 954',\n",
      " 'nome': 'ana'}\n",
      "{'_id': ObjectId('5ef256f7614708455b67498d'),\n",
      " 'endereço': 'Avenida Cenral n. 954',\n",
      " 'nome': 'William'}\n",
      "{'_id': ObjectId('5ef256f7614708455b67498e'), 'nome': 'William'}\n"
     ]
    }
   ],
   "source": [
    "condicao = {'nome': 'ana'}\n",
    "valor = {'$set': {'logradouro': 'Avenida JK', 'num': 345}}\n",
    "\n",
    "colecao.update_one(condicao, valor)\n",
    "\n",
    "for docs in colecao.find():\n",
    "    pprint.pprint(docs)"
   ]
  },
  {
   "cell_type": "code",
   "execution_count": 38,
   "metadata": {},
   "outputs": [
    {
     "name": "stdout",
     "output_type": "stream",
     "text": [
      "{'_id': ObjectId('5ef256f7614708455b67498a'),\n",
      " 'logradouro': 'Avenida JK',\n",
      " 'nome': 'ana',\n",
      " 'num': 345}\n",
      "{'_id': ObjectId('5ef256f7614708455b67498c'),\n",
      " 'endereço': 'Avenida Cenral n. 954',\n",
      " 'nome': 'ana'}\n"
     ]
    }
   ],
   "source": [
    "for docs in colecao.find({'nome': 'ana'}):\n",
    "    pprint.pprint(docs)"
   ]
  },
  {
   "cell_type": "code",
   "execution_count": 39,
   "metadata": {},
   "outputs": [
    {
     "data": {
      "text/plain": [
       "<pymongo.results.UpdateResult at 0x276b4bbbf88>"
      ]
     },
     "execution_count": 39,
     "metadata": {},
     "output_type": "execute_result"
    }
   ],
   "source": [
    "condicao = {'nome': 'ana'}\n",
    "valor = {'$set': {'logradouro': 'Avenida JK', 'num': 345}}\n",
    "\n",
    "colecao.update_many(condicao, valor)"
   ]
  },
  {
   "cell_type": "code",
   "execution_count": 40,
   "metadata": {},
   "outputs": [
    {
     "name": "stdout",
     "output_type": "stream",
     "text": [
      "{'_id': ObjectId('5ef256f7614708455b67498a'),\n",
      " 'logradouro': 'Avenida JK',\n",
      " 'nome': 'ana',\n",
      " 'num': 345}\n",
      "{'_id': ObjectId('5ef256f7614708455b67498c'),\n",
      " 'endereço': 'Avenida Cenral n. 954',\n",
      " 'logradouro': 'Avenida JK',\n",
      " 'nome': 'ana',\n",
      " 'num': 345}\n"
     ]
    }
   ],
   "source": [
    "for docs in colecao.find({'nome': 'ana'}):\n",
    "    pprint.pprint(docs)"
   ]
  },
  {
   "cell_type": "code",
   "execution_count": 41,
   "metadata": {},
   "outputs": [
    {
     "name": "stdout",
     "output_type": "stream",
     "text": [
      "{'_id': ObjectId('5ef256f7614708455b67498b'),\n",
      " 'endereço': 'Avenida Cenral n. 954',\n",
      " 'nome': 'William'}\n",
      "{'_id': ObjectId('5ef256f7614708455b67498d'),\n",
      " 'endereço': 'Avenida Cenral n. 954',\n",
      " 'nome': 'William'}\n",
      "{'_id': ObjectId('5ef256f7614708455b67498e'), 'nome': 'William'}\n"
     ]
    }
   ],
   "source": [
    "for docs in colecao.find({'nome': 'William'}):\n",
    "    pprint.pprint(docs)"
   ]
  },
  {
   "cell_type": "code",
   "execution_count": 42,
   "metadata": {},
   "outputs": [
    {
     "data": {
      "text/plain": [
       "<pymongo.results.DeleteResult at 0x276b4f215c8>"
      ]
     },
     "execution_count": 42,
     "metadata": {},
     "output_type": "execute_result"
    }
   ],
   "source": [
    "condicao = {'nome': 'William'}\n",
    "\n",
    "colecao.delete_one(condicao)"
   ]
  },
  {
   "cell_type": "code",
   "execution_count": 43,
   "metadata": {},
   "outputs": [
    {
     "name": "stdout",
     "output_type": "stream",
     "text": [
      "{'_id': ObjectId('5ef256f7614708455b67498d'),\n",
      " 'endereço': 'Avenida Cenral n. 954',\n",
      " 'nome': 'William'}\n",
      "{'_id': ObjectId('5ef256f7614708455b67498e'), 'nome': 'William'}\n"
     ]
    }
   ],
   "source": [
    "for docs in colecao.find({'nome': 'William'}):\n",
    "    pprint.pprint(docs)"
   ]
  },
  {
   "cell_type": "code",
   "execution_count": 44,
   "metadata": {},
   "outputs": [
    {
     "data": {
      "text/plain": [
       "<pymongo.results.DeleteResult at 0x276b4f4d308>"
      ]
     },
     "execution_count": 44,
     "metadata": {},
     "output_type": "execute_result"
    }
   ],
   "source": [
    "condicao = {'nome': 'William'}\n",
    "\n",
    "colecao.delete_many(condicao)"
   ]
  },
  {
   "cell_type": "code",
   "execution_count": 45,
   "metadata": {},
   "outputs": [],
   "source": [
    "for docs in colecao.find({'nome': 'William'}):\n",
    "    pprint.pprint(docs)"
   ]
  },
  {
   "cell_type": "code",
   "execution_count": 47,
   "metadata": {},
   "outputs": [
    {
     "data": {
      "text/plain": [
       "{'nIndexesWas': 1, 'ns': 'Vendas.clientes', 'ok': 1.0}"
      ]
     },
     "execution_count": 47,
     "metadata": {},
     "output_type": "execute_result"
    }
   ],
   "source": [
    "db.drop_collection('clientes')"
   ]
  },
  {
   "cell_type": "code",
   "execution_count": 48,
   "metadata": {},
   "outputs": [
    {
     "data": {
      "text/plain": [
       "[]"
      ]
     },
     "execution_count": 48,
     "metadata": {},
     "output_type": "execute_result"
    }
   ],
   "source": [
    "db.list_collection_names()"
   ]
  },
  {
   "cell_type": "code",
   "execution_count": 49,
   "metadata": {},
   "outputs": [],
   "source": [
    "con.drop_database('Vendas')"
   ]
  },
  {
   "cell_type": "code",
   "execution_count": 50,
   "metadata": {},
   "outputs": [
    {
     "data": {
      "text/plain": [
       "['admin', 'config', 'local']"
      ]
     },
     "execution_count": 50,
     "metadata": {},
     "output_type": "execute_result"
    }
   ],
   "source": [
    "con.list_database_names()"
   ]
  },
  {
   "cell_type": "code",
   "execution_count": null,
   "metadata": {},
   "outputs": [],
   "source": []
  }
 ],
 "metadata": {
  "kernelspec": {
   "display_name": "Python 3",
   "language": "python",
   "name": "python3"
  },
  "language_info": {
   "codemirror_mode": {
    "name": "ipython",
    "version": 3
   },
   "file_extension": ".py",
   "mimetype": "text/x-python",
   "name": "python",
   "nbconvert_exporter": "python",
   "pygments_lexer": "ipython3",
   "version": "3.7.6"
  }
 },
 "nbformat": 4,
 "nbformat_minor": 4
}
